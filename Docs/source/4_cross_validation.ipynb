{
 "cells": [
  {
   "cell_type": "markdown",
   "id": "a599bde8",
   "metadata": {},
   "source": [
    "# Imports"
   ]
  },
  {
   "cell_type": "code",
   "execution_count": 1,
   "id": "066e06c6",
   "metadata": {},
   "outputs": [],
   "source": [
    "import numpy as np\n",
    "from matplotlib import pyplot as plt\n",
    "import pandas as pd\n",
    "\n",
    "from sklearn.model_selection import GridSearchCV, RandomizedSearchCV, cross_val_score\n",
    "from sklearn.metrics import mean_squared_error\n",
    "from sklearn.kernel_ridge import KernelRidge\n",
    "\n",
    "from qmlearn.io import read_db"
   ]
  },
  {
   "cell_type": "markdown",
   "id": "a30a1cb0",
   "metadata": {},
   "source": [
    "# Data"
   ]
  },
  {
   "cell_type": "code",
   "execution_count": 2,
   "id": "5daf6943",
   "metadata": {},
   "outputs": [
    {
     "name": "stdout",
     "output_type": "stream",
     "text": [
      "Guess DB names : {'qmmol': 'rks/qmmol', 'atoms': 'rks/train_atoms_27', 'properties': 'rks/train_props_27'}\n"
     ]
    }
   ],
   "source": [
    "# Calling data\n",
    "data = read_db('.\\nh3_data.hdf5')\n",
    "properties = data['properties']\n",
    "X = properties['vext']\n",
    "Y = properties['gamma']"
   ]
  },
  {
   "cell_type": "code",
   "execution_count": 3,
   "id": "cce0731d",
   "metadata": {},
   "outputs": [],
   "source": [
    "# Printing shapes, as needed\n",
    "# print('X shape:', X.shape)\n",
    "# print('Y shape:', Y.shape)\n",
    "\n",
    "# Resizing to obtaine 2D array\n",
    "X_resized = np.resize(X, (27, 3364))\n",
    "Y_resized = np.resize(Y, (27, 3364))\n",
    "\n",
    "## Resizing method above was the preferred method, yielding the most accurate predictions\n",
    "## This should be on the order of samples by (n_features)^2"
   ]
  },
  {
   "cell_type": "markdown",
   "id": "cc6bd384",
   "metadata": {},
   "source": [
    "# Grid search"
   ]
  },
  {
   "cell_type": "code",
   "execution_count": 10,
   "id": "92267002",
   "metadata": {},
   "outputs": [
    {
     "data": {
      "text/plain": [
       "1.0"
      ]
     },
     "execution_count": 10,
     "metadata": {},
     "output_type": "execute_result"
    }
   ],
   "source": [
    "# Defining the function, can be modified as needed\n",
    "krr_gs = KernelRidge(kernel = 'rbf')\n",
    "\n",
    "## The choice of kernel itself can be left to the cross-validation\n",
    "## Favored function was KRR, but others can be (and have been) tested in the exact same\n",
    "## It is recommended to use some sort of preprocessing when cross-validating neural networks"
   ]
  },
  {
   "cell_type": "markdown",
   "id": "d068d419",
   "metadata": {},
   "source": [
    "### Method 1"
   ]
  },
  {
   "cell_type": "code",
   "execution_count": 11,
   "id": "cbad5c0c",
   "metadata": {},
   "outputs": [],
   "source": [
    "# Choice of parameters to test for and number of iterations                ## More can be added, as needed\n",
    "param_grid = {'gamma': np.arange(0.0, 1.0, 0.0001), 'max_iter':[10000]}\n",
    "\n",
    "# Defining function, alternatives exist\n",
    "class grid():\n",
    "    def __init__(self,model):\n",
    "        self.model = model\n",
    "    def grid_get(self, X_resized, Y_resized, param_grid):\n",
    "        grid_search = GridSearchCV(self.model, param_grid, cv = 5, scoring = 'neg_mean_squared_error')\n",
    "        grid_search.fit(X_resized, Y_resized)\n",
    "        print(grid_search.best_params_, np.sqrt(-grid_search.best_score_))\n",
    "        grid_search.cv_results_['mean_test_score'] = np.sqrt(-grid_search.cv_results_['mean_test_score'])\n",
    "        print(pd.DataFrame(grid_search.cv_results_)[['params','mean_test_score','std_test_score']])"
   ]
  },
  {
   "cell_type": "code",
   "execution_count": 12,
   "id": "c8f54204",
   "metadata": {},
   "outputs": [
    {
     "ename": "SyntaxError",
     "evalue": "unexpected EOF while parsing (3963740760.py, line 2)",
     "output_type": "error",
     "traceback": [
      "\u001b[0;36m  Cell \u001b[0;32mIn[12], line 2\u001b[0;36m\u001b[0m\n\u001b[0;31m    grid(KernelRidge(kernel = kernel).grid_get(X_resized, Y_resized, {'gamma': np.arange(0.0, 1.0, 0.0001)})\u001b[0m\n\u001b[0m                                                                                                            ^\u001b[0m\n\u001b[0;31mSyntaxError\u001b[0m\u001b[0;31m:\u001b[0m unexpected EOF while parsing\n"
     ]
    }
   ],
   "source": [
    "# Executing the grid search\n",
    "grid(KernelRidge(kernel = kernel).grid_get(X_resized, Y_resized, {'gamma': np.arange(0.0, 1.0, 0.0001)})"
   ]
  },
  {
   "cell_type": "markdown",
   "id": "f66ea1c6",
   "metadata": {},
   "source": [
    "### Method 2"
   ]
  },
  {
   "cell_type": "code",
   "execution_count": null,
   "id": "3cb47136",
   "metadata": {},
   "outputs": [],
   "source": [
    "# Alternative method to defining parameters to test, can be modified as needed, such as expanding parameter_space\n",
    "parameter_space = {\n",
    "    'alpha': np.arange(0, 1, 1e-5),\n",
    "}\n",
    "\n",
    "reg = GridSearchCV(krr_gs, parameter_space, scoring = 'neg_root_mean_squared_error', n_jobs = -1, cv = 5)\n",
    "\n",
    "reg.fit(X_resized, Y_resized)"
   ]
  },
  {
   "cell_type": "code",
   "execution_count": null,
   "id": "e4673aee",
   "metadata": {},
   "outputs": [],
   "source": [
    "print('Best parameters found:\\n', reg.best_params_)\n",
    "\n",
    "# print('Best score found:\\n', reg.best_score_)"
   ]
  },
  {
   "cell_type": "markdown",
   "id": "f6c17851",
   "metadata": {},
   "source": [
    "# Random search"
   ]
  },
  {
   "cell_type": "markdown",
   "id": "333cfd13",
   "metadata": {},
   "source": [
    "### Method 1"
   ]
  },
  {
   "cell_type": "code",
   "execution_count": null,
   "id": "f8f03d4a",
   "metadata": {},
   "outputs": [],
   "source": [
    "# Choice of parameters to test for and number of iterations                 ## More can be added, as needed\n",
    "param_grid = {'alpha': np.arange(0.0, 1.0, 0.001), 'max_iter':[10000]}\n",
    "\n",
    "\n",
    "# Defining function, alternatives exist\n",
    "class random():\n",
    "    def __init__(self,model):\n",
    "        self.model = model\n",
    "    def random_get(self, X_resized, Y_resized, param_grid):\n",
    "        random_search = RandomizedSearchCV(self.model, param_grid, random_state = 0,\n",
    "                                           n_iter = 100, scoring = 'neg_mean_squared_error')\n",
    "        random_search.fit(X_resized, Y_resized)\n",
    "        print(random_search.best_params_, np.sqrt(-random_search.best_score_))\n",
    "        random_search.cv_results_['mean_test_score'] = np.sqrt(-random_search.cv_results_['mean_test_score'])\n",
    "        print(pd.DataFrame(random_search.cv_results_)[['params','mean_test_score','std_test_score']])"
   ]
  },
  {
   "cell_type": "code",
   "execution_count": null,
   "id": "b24e3565",
   "metadata": {},
   "outputs": [],
   "source": [
    "# Executing the random search\n",
    "random(KernelRidge(kernel = 'rbf')).random_get(X_resized, Y_resized, {'alpha': np.arange(0, 1, 0.001)})"
   ]
  },
  {
   "cell_type": "markdown",
   "id": "04b297a7",
   "metadata": {},
   "source": [
    "### Method 2"
   ]
  },
  {
   "cell_type": "code",
   "execution_count": null,
   "id": "4284e309",
   "metadata": {},
   "outputs": [],
   "source": [
    "parameter_space = {\n",
    "    'alpha': np.arange(0, 1, 1e-5),\n",
    "}\n",
    "\n",
    "reg = RandomizedSearchCV(krr_gs, parameter_space, scoring = 'neg_root_mean_squared_error', n_jobs = -1, cv = 5)\n",
    "\n",
    "reg.fit(X_resized, Y_resized)"
   ]
  },
  {
   "cell_type": "code",
   "execution_count": null,
   "id": "6f323ac7",
   "metadata": {},
   "outputs": [],
   "source": [
    "print('Best parameters found:\\n', reg.best_params_)\n",
    "\n",
    "# print('Best score found:\\n', reg.best_score_)"
   ]
  }
 ],
 "metadata": {
  "kernelspec": {
   "display_name": "Python 3 (ipykernel)",
   "language": "python",
   "name": "python3"
  },
  "language_info": {
   "codemirror_mode": {
    "name": "ipython",
    "version": 3
   },
   "file_extension": ".py",
   "mimetype": "text/x-python",
   "name": "python",
   "nbconvert_exporter": "python",
   "pygments_lexer": "ipython3",
   "version": "3.9.6"
  }
 },
 "nbformat": 4,
 "nbformat_minor": 5
}
