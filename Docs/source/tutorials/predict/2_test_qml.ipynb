{
 "cells": [
  {
   "cell_type": "code",
   "execution_count": 8,
   "id": "d2e3d8f1",
   "metadata": {},
   "outputs": [],
   "source": [
    "import numpy as np\n",
    "import ase\n",
    "from ase.build import molecule\n",
    "from ase.optimize import LBFGS"
   ]
  },
  {
   "cell_type": "code",
   "execution_count": 9,
   "id": "e4f39685",
   "metadata": {},
   "outputs": [],
   "source": [
    "from qmlearn.api.api4ase import QMLCalculator\n",
    "from qmlearn.drivers.mol import QMMol\n",
    "from qmlearn.io.model import db2qmmodel"
   ]
  },
  {
   "cell_type": "code",
   "execution_count": 10,
   "id": "9ff0d52a",
   "metadata": {},
   "outputs": [
    {
     "name": "stdout",
     "output_type": "stream",
     "text": [
      "Guess DB names : {'qmmol': 'rks/qmmol', 'atoms': 'rks/train_atoms_36', 'properties': 'rks/train_props_36'}\n",
      "Guess mmodels: {'gamma': KernelRidge(alpha=0.1), 'd_gamma': LinearRegression(), 'd_energy': LinearRegression(), 'd_forces': LinearRegression()}\n"
     ]
    }
   ],
   "source": [
    "qmmodel = db2qmmodel('h2o_vib_QML_set.hdf5')"
   ]
  },
  {
   "cell_type": "code",
   "execution_count": 11,
   "id": "68f02731",
   "metadata": {},
   "outputs": [],
   "source": [
    "second_learn = {\n",
    "        'energy' : 'd_energy',\n",
    "        'forces' : 'd_forces',\n",
    "        }\n",
    "calc = QMLCalculator(qmmodel = qmmodel, second_learn = second_learn, method = 'gamma')"
   ]
  },
  {
   "cell_type": "code",
   "execution_count": 12,
   "id": "186ffb2b",
   "metadata": {},
   "outputs": [],
   "source": [
    "atoms_test=molecule('H2O')\n",
    "atoms_test.positions[0,0] += 0.2"
   ]
  },
  {
   "cell_type": "code",
   "execution_count": 13,
   "id": "9c7c5182",
   "metadata": {},
   "outputs": [],
   "source": [
    "atoms = atoms_test.copy()\n",
    "atoms.calc = calc"
   ]
  },
  {
   "cell_type": "code",
   "execution_count": 14,
   "id": "eaf4ca65",
   "metadata": {},
   "outputs": [
    {
     "name": "stdout",
     "output_type": "stream",
     "text": [
      "       Step     Time          Energy         fmax\n",
      "LBFGS:    0 17:44:04    -2070.589750        1.2783\n",
      "LBFGS:    1 17:44:04    -2070.613779        0.5374\n",
      "LBFGS:    2 17:44:05    -2070.614010        0.5165\n",
      "LBFGS:    3 17:44:05    -2070.618349        0.0467\n",
      "LBFGS:    4 17:44:05    -2070.618366        0.0341\n",
      "LBFGS:    5 17:44:05    -2070.618421        0.0119\n",
      "LBFGS:    6 17:44:06    -2070.618417        0.0030\n"
     ]
    },
    {
     "data": {
      "text/plain": [
       "array([[ 1.99167916e-01, -3.47856762e-05,  9.49234377e-02],\n",
       "       [ 4.17777201e-04,  7.65802839e-01, -4.64825182e-01],\n",
       "       [ 4.14336067e-04, -7.65768131e-01, -4.64930179e-01]])"
      ]
     },
     "execution_count": 14,
     "metadata": {},
     "output_type": "execute_result"
    }
   ],
   "source": [
    "LBFGS(atoms, trajectory = 'opt.traj').run(fmax=0.01)\n",
    "atoms.positions"
   ]
  },
  {
   "cell_type": "code",
   "execution_count": 15,
   "id": "eafcff18",
   "metadata": {},
   "outputs": [],
   "source": [
    "basis = 'cc-pvTZ'\n",
    "xc = 'lda,vwn_rpa'\n",
    "method = 'rks'\n",
    "charge = 0"
   ]
  },
  {
   "cell_type": "code",
   "execution_count": 16,
   "id": "4d21ecce",
   "metadata": {},
   "outputs": [],
   "source": [
    "atoms = atoms_test.copy()\n",
    "refqmmol = QMMol(atoms = atoms, method = method, basis=basis, xc = xc, charge=charge)\n",
    "atoms.calc = QMLCalculator(qmmodel = refqmmol, method = 'engine')"
   ]
  },
  {
   "cell_type": "code",
   "execution_count": 17,
   "id": "e067f72c",
   "metadata": {},
   "outputs": [
    {
     "name": "stdout",
     "output_type": "stream",
     "text": [
      "       Step     Time          Energy         fmax\n",
      "LBFGS:    0 17:44:13    -2070.596525        1.3259\n",
      "LBFGS:    1 17:44:17    -2070.616301        0.2563\n",
      "LBFGS:    2 17:44:23    -2070.617393        0.1126\n",
      "LBFGS:    3 17:44:29    -2070.618015        0.1030\n",
      "LBFGS:    4 17:44:35    -2070.618396        0.0495\n",
      "LBFGS:    5 17:44:40    -2070.618425        0.0106\n",
      "LBFGS:    6 17:44:46    -2070.618427        0.0005\n"
     ]
    },
    {
     "data": {
      "text/plain": [
       "array([[ 1.92577545e-01,  3.29547777e-15,  9.72371798e-02],\n",
       "       [ 3.71122733e-03,  7.65804799e-01, -4.66034590e-01],\n",
       "       [ 3.71122733e-03, -7.65804799e-01, -4.66034590e-01]])"
      ]
     },
     "execution_count": 17,
     "metadata": {},
     "output_type": "execute_result"
    }
   ],
   "source": [
    "LBFGS(atoms, trajectory = 'opt.traj').run(fmax=0.01)\n",
    "atoms.positions"
   ]
  },
  {
   "cell_type": "code",
   "execution_count": 19,
   "id": "8b67344c",
   "metadata": {},
   "outputs": [
    {
     "name": "stdout",
     "output_type": "stream",
     "text": [
      "Guess DB names : {'qmmol': 'rks/qmmol', 'atoms': 'rks/train_atoms_30', 'properties': 'rks/train_props_30'}\n",
      "Guess mmodels: {'gamma': KernelRidge(alpha=0.1), 'd_gamma': LinearRegression(), 'd_energy': LinearRegression(), 'd_forces': LinearRegression()}\n",
      "       Step     Time          Energy         fmax\n",
      "LBFGS:    0 17:45:31    -2070.596523        1.3260\n",
      "LBFGS:    1 17:45:31    -2070.616322        0.2564\n",
      "LBFGS:    2 17:45:31    -2070.617412        0.1126\n",
      "LBFGS:    3 17:45:32    -2070.618032        0.1029\n",
      "LBFGS:    4 17:45:32    -2070.618411        0.0495\n",
      "LBFGS:    5 17:45:32    -2070.618441        0.0106\n",
      "LBFGS:    6 17:45:32    -2070.618441        0.0014\n"
     ]
    },
    {
     "data": {
      "text/plain": [
       "array([[ 1.92610265e-01,  1.14244173e-05,  9.72291730e-02],\n",
       "       [ 3.69633877e-03,  7.65794139e-01, -4.66026200e-01],\n",
       "       [ 3.69338994e-03, -7.65805574e-01, -4.66034992e-01]])"
      ]
     },
     "execution_count": 19,
     "metadata": {},
     "output_type": "execute_result"
    }
   ],
   "source": [
    "qmmodel = db2qmmodel('./h2o_md_300_QML_set.hdf5')\n",
    "atoms = atoms_test.copy()\n",
    "atoms.calc = QMLCalculator(qmmodel = qmmodel, second_learn = second_learn, method = 'gamma')\n",
    "LBFGS(atoms, trajectory = 'opt.traj').run(fmax=0.01)\n",
    "atoms.positions"
   ]
  },
  {
   "cell_type": "code",
   "execution_count": 20,
   "id": "3a7497f9",
   "metadata": {},
   "outputs": [
    {
     "data": {
      "text/plain": [
       "<qmlearn.model.model.QMModel at 0x7fb48773fa30>"
      ]
     },
     "execution_count": 20,
     "metadata": {},
     "output_type": "execute_result"
    }
   ],
   "source": [
    "qmmodel"
   ]
  },
  {
   "cell_type": "code",
   "execution_count": null,
   "id": "b9156fc7",
   "metadata": {},
   "outputs": [],
   "source": []
  }
 ],
 "metadata": {
  "kernelspec": {
   "display_name": "Python 3 (ipykernel)",
   "language": "python",
   "name": "python3"
  },
  "language_info": {
   "codemirror_mode": {
    "name": "ipython",
    "version": 3
   },
   "file_extension": ".py",
   "mimetype": "text/x-python",
   "name": "python",
   "nbconvert_exporter": "python",
   "pygments_lexer": "ipython3",
   "version": "3.8.2"
  },
  "varInspector": {
   "cols": {
    "lenName": 16,
    "lenType": 16,
    "lenVar": 40
   },
   "kernels_config": {
    "python": {
     "delete_cmd_postfix": "",
     "delete_cmd_prefix": "del ",
     "library": "var_list.py",
     "varRefreshCmd": "print(var_dic_list())"
    },
    "r": {
     "delete_cmd_postfix": ") ",
     "delete_cmd_prefix": "rm(",
     "library": "var_list.r",
     "varRefreshCmd": "cat(var_dic_list()) "
    }
   },
   "types_to_exclude": [
    "module",
    "function",
    "builtin_function_or_method",
    "instance",
    "_Feature"
   ],
   "window_display": false
  }
 },
 "nbformat": 4,
 "nbformat_minor": 5
}
