{
 "cells": [
  {
   "cell_type": "code",
   "execution_count": 1,
   "id": "9c2b1cb1",
   "metadata": {},
   "outputs": [],
   "source": [
    "import numpy as np\n",
    "import ase\n",
    "from ase.build import molecule\n",
    "from ase.optimize import LBFGS\n",
    "from ase.vibrations import Infrared\n",
    "from ase.io.trajectory import Trajectory"
   ]
  },
  {
   "cell_type": "code",
   "execution_count": 2,
   "id": "f8cf88d5",
   "metadata": {},
   "outputs": [],
   "source": [
    "from qmlearn.api.api4ase import QMLCalculator\n",
    "from qmlearn.drivers.mol import QMMol"
   ]
  },
  {
   "cell_type": "code",
   "execution_count": 3,
   "id": "01d78f43",
   "metadata": {},
   "outputs": [],
   "source": [
    "basis = 'cc-pvTZ'\n",
    "xc = 'lda,vwn_rpa'\n",
    "# xc = 'blyp'\n",
    "method = 'rks'\n",
    "charge = 0"
   ]
  },
  {
   "cell_type": "code",
   "execution_count": 4,
   "id": "4395f572",
   "metadata": {},
   "outputs": [],
   "source": [
    "atoms=molecule('H2O')"
   ]
  },
  {
   "cell_type": "code",
   "execution_count": 5,
   "id": "8b81366e",
   "metadata": {},
   "outputs": [],
   "source": [
    "refqmmol = QMMol(atoms = atoms, method = method, basis=basis, xc = xc, charge=charge)"
   ]
  },
  {
   "cell_type": "code",
   "execution_count": 6,
   "id": "2f015686",
   "metadata": {},
   "outputs": [],
   "source": [
    "atoms.calc = QMLCalculator(qmmodel = refqmmol, method = 'engine')"
   ]
  },
  {
   "cell_type": "code",
   "execution_count": 7,
   "id": "e781bfca",
   "metadata": {},
   "outputs": [
    {
     "name": "stdout",
     "output_type": "stream",
     "text": [
      "       Step     Time          Energy         fmax\n",
      "LBFGS:    0 22:48:57    -2070.618291        0.0532\n",
      "LBFGS:    1 22:48:58    -2070.618347        0.0284\n",
      "LBFGS:    2 22:48:59    -2070.618399        0.0288\n",
      "LBFGS:    3 22:48:59    -2070.618420        0.0082\n"
     ]
    },
    {
     "data": {
      "text/plain": [
       "True"
      ]
     },
     "execution_count": 7,
     "metadata": {},
     "output_type": "execute_result"
    }
   ],
   "source": [
    "LBFGS(atoms, trajectory = 'opt.traj').run(fmax=0.01)"
   ]
  },
  {
   "cell_type": "code",
   "execution_count": 8,
   "id": "0e718021",
   "metadata": {},
   "outputs": [],
   "source": [
    "atoms.write('opt.xyz')"
   ]
  },
  {
   "cell_type": "code",
   "execution_count": 9,
   "id": "06aa7144",
   "metadata": {},
   "outputs": [
    {
     "name": "stdout",
     "output_type": "stream",
     "text": [
      "-------------------------------------\n",
      " Mode    Frequency        Intensity\n",
      "  #    meV     cm^-1   (D/Å)^2 amu^-1\n",
      "-------------------------------------\n",
      "  0    4.1i     33.3i     2.0626\n",
      "  1    0.0i      0.3i     0.0003\n",
      "  2    0.0i      0.0i     0.0000\n",
      "  3    0.5       3.9      0.0281\n",
      "  4    4.5      36.2      0.0000\n",
      "  5    5.9      47.7      5.9965\n",
      "  6  193.8    1562.8      1.6501\n",
      "  7  462.6    3731.3      0.1108\n",
      "  8  476.0    3839.0      1.2541\n",
      "-------------------------------------\n",
      "Zero-point energy: 0.572 eV\n",
      "Static dipole moment: 1.947 D\n",
      "Maximum force on atom in `equilibrium`: 0.0082 eV/Å\n",
      "\n"
     ]
    }
   ],
   "source": [
    "ir = Infrared(atoms)\n",
    "ir.run()\n",
    "ir.summary()"
   ]
  },
  {
   "cell_type": "code",
   "execution_count": 10,
   "id": "c60a8903",
   "metadata": {},
   "outputs": [],
   "source": [
    "ir.write_mode(nimages=30)"
   ]
  },
  {
   "cell_type": "code",
   "execution_count": 11,
   "id": "e3c6215b",
   "metadata": {},
   "outputs": [],
   "source": [
    "traj='h2o_vib.traj'\n",
    "fd = Trajectory(traj, 'w')\n",
    "for i in range(6, len(atoms)*3):\n",
    "    fname='ir.'+str(i)+'.traj'\n",
    "    struct=Trajectory(fname)\n",
    "    for a in struct:\n",
    "        fd.write(a)"
   ]
  }
 ],
 "metadata": {
  "kernelspec": {
   "display_name": "Python 3 (ipykernel)",
   "language": "python",
   "name": "python3"
  },
  "language_info": {
   "codemirror_mode": {
    "name": "ipython",
    "version": 3
   },
   "file_extension": ".py",
   "mimetype": "text/x-python",
   "name": "python",
   "nbconvert_exporter": "python",
   "pygments_lexer": "ipython3",
   "version": "3.8.2"
  },
  "varInspector": {
   "cols": {
    "lenName": 16,
    "lenType": 16,
    "lenVar": 40
   },
   "kernels_config": {
    "python": {
     "delete_cmd_postfix": "",
     "delete_cmd_prefix": "del ",
     "library": "var_list.py",
     "varRefreshCmd": "print(var_dic_list())"
    },
    "r": {
     "delete_cmd_postfix": ") ",
     "delete_cmd_prefix": "rm(",
     "library": "var_list.r",
     "varRefreshCmd": "cat(var_dic_list()) "
    }
   },
   "types_to_exclude": [
    "module",
    "function",
    "builtin_function_or_method",
    "instance",
    "_Feature"
   ],
   "window_display": false
  }
 },
 "nbformat": 4,
 "nbformat_minor": 5
}
