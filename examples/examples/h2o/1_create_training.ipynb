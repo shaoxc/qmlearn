{
 "cells": [
  {
   "cell_type": "markdown",
   "id": "78eb58a8",
   "metadata": {},
   "source": [
    "## Creating a Training Data Set "
   ]
  },
  {
   "cell_type": "code",
   "execution_count": 1,
   "id": "93c39ee0",
   "metadata": {},
   "outputs": [],
   "source": [
    "import os\n",
    "import ase\n",
    "from ase.io.trajectory import Trajectory"
   ]
  },
  {
   "cell_type": "code",
   "execution_count": 2,
   "id": "a2f7a3b7",
   "metadata": {},
   "outputs": [],
   "source": [
    "from qmlearn.drivers.mol import QMMol\n",
    "from qmlearn.preprocessing import get_train_atoms\n",
    "from qmlearn.io.hdf5 import DBHDF5"
   ]
  },
  {
   "cell_type": "markdown",
   "id": "06ff99f8",
   "metadata": {},
   "source": [
    "##### Engine properties\n",
    "\n",
    "1) Define the basis set, level of theory, exchange correlation functional and the total charge of your system:\n",
    "\n",
    "    Basis set available in PySCF : https://pyscf.org/_modules/pyscf/gto/basis.html \n",
    "\n",
    "    Level of Theory available in PySCF : https://pyscf.org/user.html\n",
    "\n",
    "    Exchange Correlation Functional available in PySCF : https://pyscf.org/_modules/pyscf/dft/xcfun.html\n"
   ]
  },
  {
   "cell_type": "code",
   "execution_count": 3,
   "id": "e151a958",
   "metadata": {},
   "outputs": [],
   "source": [
    "basis = 'cc-pvTZ'\n",
    "method = 'rks'\n",
    "xc = 'lda,vwn_rpa'\n",
    "charge = 0"
   ]
  },
  {
   "cell_type": "markdown",
   "id": "a2625bc9",
   "metadata": {},
   "source": [
    "##### Training set \n",
    "\n",
    "2) From a molecular dynamics trajectory `'h2o_vib.traj'` remove similar structures using the `get_train_atoms` function and keep them as `train_atoms`"
   ]
  },
  {
   "cell_type": "code",
   "execution_count": 4,
   "id": "a74bf289",
   "metadata": {},
   "outputs": [],
   "source": [
    "nsamples=10000\n",
    "tol = 1E-3\n",
    "mdtraj = 'h2o_vib.traj'"
   ]
  },
  {
   "cell_type": "code",
   "execution_count": 5,
   "id": "f51a4fe0",
   "metadata": {
    "scrolled": true
   },
   "outputs": [
    {
     "name": "stdout",
     "output_type": "stream",
     "text": [
      "WARN : Only get 36 samples at 90 step. Maybe you can reduce the 'tol'.\n"
     ]
    }
   ],
   "source": [
    "train_atoms=get_train_atoms(mdtraj, nsamples=nsamples, tol=tol)\n",
    "nsamples = len(train_atoms)"
   ]
  },
  {
   "cell_type": "markdown",
   "id": "cfc9190d",
   "metadata": {},
   "source": [
    "##### Reference structure \n",
    "\n",
    "3) Using `train_atoms` define the reference structure."
   ]
  },
  {
   "cell_type": "code",
   "execution_count": 6,
   "id": "6db5f59f",
   "metadata": {},
   "outputs": [],
   "source": [
    "refqmmol = QMMol(atoms = train_atoms[0],  method = method, basis=basis, xc = xc)"
   ]
  },
  {
   "cell_type": "markdown",
   "id": "161edd7a",
   "metadata": {},
   "source": [
    "##### Properties definition\n",
    "\n",
    "4) Create a list `prop` with the properties you wish to store after running PySCF engine using `qmmol.run()`. \n",
    "\n",
    "5) Iterate over each geometry in `train_atoms`, run PySCF engine using `qmmol.run()` and keep the results in `properties` dictionary."
   ]
  },
  {
   "cell_type": "code",
   "execution_count": 7,
   "id": "14af9dc7",
   "metadata": {},
   "outputs": [],
   "source": [
    "prop = ['vext', 'gamma', 'energy', 'forces']\n",
    "properties= { k: [] for k in prop}\n",
    "\n",
    "for atoms in train_atoms:\n",
    "    qmmol = refqmmol.duplicate(atoms)\n",
    "    qmmol.run()\n",
    "    properties['vext'].append(qmmol.engine.vext)\n",
    "    properties['gamma'].append(qmmol.engine.gamma)\n",
    "    properties['energy'].append(qmmol.engine.etotal)\n",
    "    properties['forces'].append(qmmol.engine.forces)"
   ]
  },
  {
   "cell_type": "markdown",
   "id": "34b0b13c",
   "metadata": {},
   "source": [
    "##### Database init\n",
    "\n",
    "6) Initialize the hdf5 database name and create the object `db`."
   ]
  },
  {
   "cell_type": "code",
   "execution_count": 8,
   "id": "9ce74ab7",
   "metadata": {},
   "outputs": [],
   "source": [
    "dbfile = os.path.splitext(mdtraj)[0]+'_QML_set.hdf5'\n",
    "db = DBHDF5(dbfile, qmmol=refqmmol)"
   ]
  },
  {
   "cell_type": "markdown",
   "id": "88c74155",
   "metadata": {},
   "source": [
    "##### Writing Database\n",
    "\n",
    "7) Write the database object `db` and close it."
   ]
  },
  {
   "cell_type": "code",
   "execution_count": 9,
   "id": "b57d207a",
   "metadata": {},
   "outputs": [
    {
     "name": "stdout",
     "output_type": "stream",
     "text": [
      "['rks', 'rks/qmmol', 'rks/train_atoms_36', 'rks/train_props_36']\n"
     ]
    }
   ],
   "source": [
    "db.write_qmmol(refqmmol)\n",
    "db.write_images(train_atoms, prefix='train')\n",
    "db.write_properties(properties, prefix='train')\n",
    "print(db.names)\n",
    "db.close()"
   ]
  },
  {
   "cell_type": "markdown",
   "id": "c10314f5",
   "metadata": {},
   "source": [
    "##### Check Database\n",
    "\n",
    "8) Check the database by oppening and reading it."
   ]
  },
  {
   "cell_type": "code",
   "execution_count": 10,
   "id": "ca978d9f",
   "metadata": {},
   "outputs": [
    {
     "data": {
      "text/plain": [
       "-76.0938240359387"
      ]
     },
     "execution_count": 10,
     "metadata": {},
     "output_type": "execute_result"
    }
   ],
   "source": [
    "db = DBHDF5(dbfile, qmmol=refqmmol)\n",
    "data = db.read_properties(db.get_names('*/train_props_*')[0])\n",
    "db.close()\n",
    "data['energy'][0]"
   ]
  },
  {
   "cell_type": "code",
   "execution_count": null,
   "id": "5e32fe38",
   "metadata": {},
   "outputs": [],
   "source": []
  }
 ],
 "metadata": {
  "kernelspec": {
   "display_name": "Python 3 (ipykernel)",
   "language": "python",
   "name": "python3"
  },
  "language_info": {
   "codemirror_mode": {
    "name": "ipython",
    "version": 3
   },
   "file_extension": ".py",
   "mimetype": "text/x-python",
   "name": "python",
   "nbconvert_exporter": "python",
   "pygments_lexer": "ipython3",
   "version": "3.8.2"
  },
  "varInspector": {
   "cols": {
    "lenName": 16,
    "lenType": 16,
    "lenVar": 40
   },
   "kernels_config": {
    "python": {
     "delete_cmd_postfix": "",
     "delete_cmd_prefix": "del ",
     "library": "var_list.py",
     "varRefreshCmd": "print(var_dic_list())"
    },
    "r": {
     "delete_cmd_postfix": ") ",
     "delete_cmd_prefix": "rm(",
     "library": "var_list.r",
     "varRefreshCmd": "cat(var_dic_list()) "
    }
   },
   "types_to_exclude": [
    "module",
    "function",
    "builtin_function_or_method",
    "instance",
    "_Feature"
   ],
   "window_display": false
  }
 },
 "nbformat": 4,
 "nbformat_minor": 5
}
