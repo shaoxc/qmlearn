{
 "cells": [
  {
   "cell_type": "code",
   "execution_count": 1,
   "id": "d2e3d8f1",
   "metadata": {},
   "outputs": [],
   "source": [
    "import os\n",
    "import numpy as np\n",
    "import ase\n",
    "from ase.io.trajectory import Trajectory"
   ]
  },
  {
   "cell_type": "code",
   "execution_count": 2,
   "id": "a2f7a3b7",
   "metadata": {},
   "outputs": [],
   "source": [
    "from qmlearn.model import QMModel\n",
    "from qmlearn.drivers.mol import QMMol\n",
    "from qmlearn.preprocessing import get_train_atoms\n",
    "from qmlearn.io.hdf5 import DBHDF5"
   ]
  },
  {
   "cell_type": "code",
   "execution_count": 3,
   "id": "e151a958",
   "metadata": {},
   "outputs": [],
   "source": [
    "basis = 'cc-pvTZ'\n",
    "xc = 'lda,vwn_rpa'\n",
    "method = 'rks'\n",
    "charge = 0"
   ]
  },
  {
   "cell_type": "code",
   "execution_count": 4,
   "id": "a74bf289",
   "metadata": {},
   "outputs": [],
   "source": [
    "nsamples=10000\n",
    "tol = 1E-3\n",
    "mdtraj = 'h2o_vib.traj'"
   ]
  },
  {
   "cell_type": "code",
   "execution_count": 5,
   "id": "f51a4fe0",
   "metadata": {},
   "outputs": [
    {
     "name": "stdout",
     "output_type": "stream",
     "text": [
      "WARN : Only get 36 samples at 90 step. Maybe you can reduce the 'tol'.\n"
     ]
    }
   ],
   "source": [
    "train_atoms=get_train_atoms(mdtraj, nsamples=nsamples, tol=tol)\n",
    "nsamples = len(train_atoms)"
   ]
  },
  {
   "cell_type": "code",
   "execution_count": 6,
   "id": "6db5f59f",
   "metadata": {},
   "outputs": [],
   "source": [
    "refqmmol = QMMol(atoms = train_atoms[0],  method = method, basis=basis, xc = xc)"
   ]
  },
  {
   "cell_type": "code",
   "execution_count": 7,
   "id": "14af9dc7",
   "metadata": {},
   "outputs": [],
   "source": [
    "prop = ['vext', 'gamma', 'energy', 'forces']\n",
    "properties= { k: [] for k in prop}\n",
    "\n",
    "for atoms in train_atoms:\n",
    "    qmmol = refqmmol.duplicate(atoms)\n",
    "    qmmol.run()\n",
    "    gamma=qmmol.engine.gamma\n",
    "    properties['vext'].append(qmmol.engine.vext)\n",
    "    properties['gamma'].append(qmmol.engine.gamma)\n",
    "    properties['energy'].append(qmmol.engine.etotal)\n",
    "    properties['forces'].append(qmmol.engine.forces)"
   ]
  },
  {
   "cell_type": "code",
   "execution_count": 8,
   "id": "9ce74ab7",
   "metadata": {},
   "outputs": [],
   "source": [
    "dbfile = os.path.splitext(mdtraj)[0]+'_QML_set.hdf5'\n",
    "db = DBHDF5(dbfile, qmmol=refqmmol)"
   ]
  },
  {
   "cell_type": "code",
   "execution_count": 9,
   "id": "b57d207a",
   "metadata": {},
   "outputs": [
    {
     "name": "stdout",
     "output_type": "stream",
     "text": [
      "['rks', 'rks/qmmol', 'rks/train_atoms_36', 'rks/train_props_36']\n"
     ]
    }
   ],
   "source": [
    "db.write_qmmol(refqmmol)\n",
    "db.write_images(train_atoms, prefix='train')\n",
    "db.write_properties(properties, prefix='train')\n",
    "print(db.names)\n",
    "db.close()"
   ]
  },
  {
   "cell_type": "code",
   "execution_count": 10,
   "id": "ca978d9f",
   "metadata": {},
   "outputs": [
    {
     "data": {
      "text/plain": [
       "-76.09382403593867"
      ]
     },
     "execution_count": 10,
     "metadata": {},
     "output_type": "execute_result"
    }
   ],
   "source": [
    "db = DBHDF5(dbfile, qmmol=refqmmol)\n",
    "data = db.read_properties(db.get_names('*/train_props_*')[0])\n",
    "db.close()\n",
    "data['energy'][0]"
   ]
  }
 ],
 "metadata": {
  "kernelspec": {
   "display_name": "Python 3 (ipykernel)",
   "language": "python",
   "name": "python3"
  },
  "language_info": {
   "codemirror_mode": {
    "name": "ipython",
    "version": 3
   },
   "file_extension": ".py",
   "mimetype": "text/x-python",
   "name": "python",
   "nbconvert_exporter": "python",
   "pygments_lexer": "ipython3",
   "version": "3.10.4"
  },
  "varInspector": {
   "cols": {
    "lenName": 16,
    "lenType": 16,
    "lenVar": 40
   },
   "kernels_config": {
    "python": {
     "delete_cmd_postfix": "",
     "delete_cmd_prefix": "del ",
     "library": "var_list.py",
     "varRefreshCmd": "print(var_dic_list())"
    },
    "r": {
     "delete_cmd_postfix": ") ",
     "delete_cmd_prefix": "rm(",
     "library": "var_list.r",
     "varRefreshCmd": "cat(var_dic_list()) "
    }
   },
   "types_to_exclude": [
    "module",
    "function",
    "builtin_function_or_method",
    "instance",
    "_Feature"
   ],
   "window_display": false
  }
 },
 "nbformat": 4,
 "nbformat_minor": 5
}
