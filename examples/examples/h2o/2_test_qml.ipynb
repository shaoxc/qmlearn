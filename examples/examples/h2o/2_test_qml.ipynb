{
 "cells": [
  {
   "cell_type": "code",
   "execution_count": 1,
   "id": "d2e3d8f1",
   "metadata": {},
   "outputs": [],
   "source": [
    "import numpy as np\n",
    "import ase\n",
    "from ase.build import molecule\n",
    "from ase.optimize import LBFGS"
   ]
  },
  {
   "cell_type": "code",
   "execution_count": 2,
   "id": "e4f39685",
   "metadata": {},
   "outputs": [],
   "source": [
    "from qmlearn.api.api4ase import QMLCalculator\n",
    "from qmlearn.drivers.mol import QMMol\n",
    "from qmlearn.io.model import db2qmmodel"
   ]
  },
  {
   "cell_type": "code",
   "execution_count": 3,
   "id": "9ff0d52a",
   "metadata": {},
   "outputs": [
    {
     "name": "stdout",
     "output_type": "stream",
     "text": [
      "Guess DB names : {'qmmol': 'rks/qmmol', 'atoms': 'rks/train_atoms_36', 'properties': 'rks/train_props_36'}\n",
      "Guess mmodels: {'gamma': KernelRidge(alpha=0.1), 'd_gamma': LinearRegression(), 'd_energy': LinearRegression(), 'd_forces': LinearRegression()}\n"
     ]
    }
   ],
   "source": [
    "qmmodel = db2qmmodel('h2o_vib_QML_set.hdf5')"
   ]
  },
  {
   "cell_type": "code",
   "execution_count": 4,
   "id": "68f02731",
   "metadata": {},
   "outputs": [],
   "source": [
    "second_learn = {\n",
    "        'energy' : 'd_energy',\n",
    "        'forces' : 'd_forces',\n",
    "        }\n",
    "calc = QMLCalculator(qmmodel = qmmodel, second_learn = second_learn, method = 'gamma')"
   ]
  },
  {
   "cell_type": "code",
   "execution_count": 5,
   "id": "186ffb2b",
   "metadata": {},
   "outputs": [],
   "source": [
    "atoms_test=molecule('H2O')\n",
    "atoms_test.positions[0,0] += 0.2"
   ]
  },
  {
   "cell_type": "code",
   "execution_count": 6,
   "id": "9c7c5182",
   "metadata": {},
   "outputs": [],
   "source": [
    "atoms = atoms_test.copy()\n",
    "atoms.calc = calc"
   ]
  },
  {
   "cell_type": "code",
   "execution_count": 7,
   "id": "eaf4ca65",
   "metadata": {},
   "outputs": [
    {
     "name": "stdout",
     "output_type": "stream",
     "text": [
      "       Step     Time          Energy         fmax\n",
      "LBFGS:    0 22:49:58    -2070.590437        1.2679\n",
      "LBFGS:    1 22:49:58    -2070.617218        0.2239\n",
      "LBFGS:    2 22:49:58    -2070.617600        0.1172\n",
      "LBFGS:    3 22:49:59    -2070.618134        0.0966\n",
      "LBFGS:    4 22:49:59    -2070.618393        0.0388\n",
      "LBFGS:    5 22:49:59    -2070.618418        0.0058\n"
     ]
    },
    {
     "data": {
      "text/plain": [
       "array([[ 1.92626984e-01,  8.07108743e-06,  9.72790197e-02],\n",
       "       [ 3.69296506e-03,  7.65848295e-01, -4.66036258e-01],\n",
       "       [ 3.68009279e-03, -7.65856343e-01, -4.66074638e-01]])"
      ]
     },
     "execution_count": 7,
     "metadata": {},
     "output_type": "execute_result"
    }
   ],
   "source": [
    "LBFGS(atoms, trajectory = 'opt.traj').run(fmax=0.01)\n",
    "atoms.positions"
   ]
  },
  {
   "cell_type": "code",
   "execution_count": 8,
   "id": "eafcff18",
   "metadata": {},
   "outputs": [],
   "source": [
    "basis = 'cc-pvTZ'\n",
    "xc = 'lda,vwn_rpa'\n",
    "method = 'rks'\n",
    "charge = 0"
   ]
  },
  {
   "cell_type": "code",
   "execution_count": 9,
   "id": "4d21ecce",
   "metadata": {},
   "outputs": [],
   "source": [
    "atoms = atoms_test.copy()\n",
    "refqmmol = QMMol(atoms = atoms, method = method, basis=basis, xc = xc, charge=charge)\n",
    "atoms.calc = QMLCalculator(qmmodel = refqmmol, method = 'engine')"
   ]
  },
  {
   "cell_type": "code",
   "execution_count": 10,
   "id": "e067f72c",
   "metadata": {},
   "outputs": [
    {
     "name": "stdout",
     "output_type": "stream",
     "text": [
      "       Step     Time          Energy         fmax\n",
      "LBFGS:    0 22:50:00    -2070.596525        1.3259\n",
      "LBFGS:    1 22:50:01    -2070.616301        0.2563\n",
      "LBFGS:    2 22:50:01    -2070.617393        0.1126\n",
      "LBFGS:    3 22:50:02    -2070.618015        0.1030\n",
      "LBFGS:    4 22:50:03    -2070.618396        0.0495\n",
      "LBFGS:    5 22:50:03    -2070.618425        0.0106\n",
      "LBFGS:    6 22:50:04    -2070.618427        0.0005\n"
     ]
    },
    {
     "data": {
      "text/plain": [
       "array([[ 1.92577545e-01, -1.87575598e-14,  9.72371798e-02],\n",
       "       [ 3.71122733e-03,  7.65804799e-01, -4.66034590e-01],\n",
       "       [ 3.71122733e-03, -7.65804799e-01, -4.66034590e-01]])"
      ]
     },
     "execution_count": 10,
     "metadata": {},
     "output_type": "execute_result"
    }
   ],
   "source": [
    "LBFGS(atoms, trajectory = 'opt.traj').run(fmax=0.01)\n",
    "atoms.positions"
   ]
  },
  {
   "cell_type": "code",
   "execution_count": 11,
   "id": "8b67344c",
   "metadata": {},
   "outputs": [
    {
     "name": "stdout",
     "output_type": "stream",
     "text": [
      "Guess DB names : {'qmmol': 'rks/qmmol', 'atoms': 'rks/train_atoms_30', 'properties': 'rks/train_props_30'}\n",
      "Guess mmodels: {'gamma': KernelRidge(alpha=0.1), 'd_gamma': LinearRegression(), 'd_energy': LinearRegression(), 'd_forces': LinearRegression()}\n",
      "       Step     Time          Energy         fmax\n",
      "LBFGS:    0 22:50:06    -2070.596523        1.3260\n",
      "LBFGS:    1 22:50:06    -2070.616324        0.2564\n",
      "LBFGS:    2 22:50:06    -2070.617414        0.1126\n",
      "LBFGS:    3 22:50:06    -2070.618032        0.1029\n",
      "LBFGS:    4 22:50:06    -2070.618412        0.0495\n",
      "LBFGS:    5 22:50:07    -2070.618440        0.0106\n",
      "LBFGS:    6 22:50:07    -2070.618442        0.0014\n"
     ]
    },
    {
     "data": {
      "text/plain": [
       "array([[ 1.92610243e-01,  1.10151982e-05,  9.72291056e-02],\n",
       "       [ 3.69627463e-03,  7.65794575e-01, -4.66026391e-01],\n",
       "       [ 3.69348310e-03, -7.65805587e-01, -4.66034714e-01]])"
      ]
     },
     "execution_count": 11,
     "metadata": {},
     "output_type": "execute_result"
    }
   ],
   "source": [
    "qmmodel = db2qmmodel('./h2o_md_300_QML_set.hdf5')\n",
    "atoms = atoms_test.copy()\n",
    "atoms.calc = QMLCalculator(qmmodel = qmmodel, second_learn = second_learn, method = 'gamma')\n",
    "LBFGS(atoms, trajectory = 'opt.traj').run(fmax=0.01)\n",
    "atoms.positions"
   ]
  }
 ],
 "metadata": {
  "kernelspec": {
   "display_name": "Python 3 (ipykernel)",
   "language": "python",
   "name": "python3"
  },
  "language_info": {
   "codemirror_mode": {
    "name": "ipython",
    "version": 3
   },
   "file_extension": ".py",
   "mimetype": "text/x-python",
   "name": "python",
   "nbconvert_exporter": "python",
   "pygments_lexer": "ipython3",
   "version": "3.10.4"
  },
  "varInspector": {
   "cols": {
    "lenName": 16,
    "lenType": 16,
    "lenVar": 40
   },
   "kernels_config": {
    "python": {
     "delete_cmd_postfix": "",
     "delete_cmd_prefix": "del ",
     "library": "var_list.py",
     "varRefreshCmd": "print(var_dic_list())"
    },
    "r": {
     "delete_cmd_postfix": ") ",
     "delete_cmd_prefix": "rm(",
     "library": "var_list.r",
     "varRefreshCmd": "cat(var_dic_list()) "
    }
   },
   "types_to_exclude": [
    "module",
    "function",
    "builtin_function_or_method",
    "instance",
    "_Feature"
   ],
   "window_display": false
  }
 },
 "nbformat": 4,
 "nbformat_minor": 5
}
