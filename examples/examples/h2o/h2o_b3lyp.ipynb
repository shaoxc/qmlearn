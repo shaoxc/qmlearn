{
 "cells": [
  {
   "cell_type": "code",
   "execution_count": 1,
   "id": "9c2b1cb1",
   "metadata": {},
   "outputs": [],
   "source": [
    "from ase.build import molecule\n",
    "from ase.optimize import LBFGS\n",
    "from ase import units"
   ]
  },
  {
   "cell_type": "code",
   "execution_count": 2,
   "id": "f8cf88d5",
   "metadata": {},
   "outputs": [],
   "source": [
    "from qmlearn.api.api4ase import QMLCalculator\n",
    "from qmlearn.drivers.mol import QMMol\n",
    "from qmlearn.model import QMModel\n",
    "from qmlearn.io import read_images\n",
    "from qmlearn.preprocessing import AtomsCreater, build_train_atoms, build_properties"
   ]
  },
  {
   "cell_type": "code",
   "execution_count": 3,
   "id": "01d78f43",
   "metadata": {},
   "outputs": [],
   "source": [
    "# basis = 'cc-pvtz'\n",
    "basis = '6-31g*'\n",
    "xc = 'b3lyp'\n",
    "method = 'rks'"
   ]
  },
  {
   "cell_type": "code",
   "execution_count": 4,
   "id": "890f616a",
   "metadata": {},
   "outputs": [],
   "source": [
    "atoms = molecule('H2O')"
   ]
  },
  {
   "cell_type": "code",
   "execution_count": 5,
   "id": "87c79617",
   "metadata": {},
   "outputs": [],
   "source": [
    "refqmmol = QMMol(atoms = atoms, method = method, basis=basis, xc = xc)\n",
    "atoms.calc = QMLCalculator(qmmodel = refqmmol, method = 'engine')"
   ]
  },
  {
   "cell_type": "code",
   "execution_count": 6,
   "id": "cf748086",
   "metadata": {},
   "outputs": [
    {
     "name": "stdout",
     "output_type": "stream",
     "text": [
      "       Step     Time          Energy         fmax\n",
      "LBFGS:    0 14:44:49    -2078.130668        0.0347\n",
      "LBFGS:    1 14:44:50    -2078.130681        0.0119\n",
      "LBFGS:    2 14:44:51    -2078.130684        0.0081\n",
      "LBFGS:    3 14:44:52    -2078.130688        0.0000\n",
      "LBFGS:    4 14:44:54    -2078.130688        0.0000\n"
     ]
    }
   ],
   "source": [
    "LBFGS(atoms).run(fmax=1E-5);"
   ]
  },
  {
   "cell_type": "code",
   "execution_count": 7,
   "id": "32adad22",
   "metadata": {},
   "outputs": [],
   "source": [
    "refqmmol = QMMol(atoms = atoms, method = method, basis=basis, xc = xc)\n",
    "atoms.calc = QMLCalculator(qmmodel = refqmmol, method = 'engine', properties=('dipole',))"
   ]
  },
  {
   "cell_type": "code",
   "execution_count": 8,
   "id": "52f197c8",
   "metadata": {},
   "outputs": [
    {
     "name": "stdout",
     "output_type": "stream",
     "text": [
      "-------------------------------------\n",
      " Mode    Frequency        Intensity\n",
      "  #    meV     cm^-1   (D/Å)^2 amu^-1\n",
      "-------------------------------------\n",
      "  0    1.8i     14.4i     6.8095\n",
      "  1    1.7i     13.7i     0.0000\n",
      "  2    0.0i      0.0i     0.0000\n",
      "  3    0.0       0.0      0.0000\n",
      "  4    0.0       0.0      0.0000\n",
      "  5    1.6      12.9      2.4020\n",
      "  6  212.0    1710.2      1.8790\n",
      "  7  460.9    3717.6      0.0403\n",
      "  8  476.3    3841.4      0.4696\n",
      "-------------------------------------\n",
      "Zero-point energy: 0.575 eV\n",
      "Static dipole moment: 2.086 D\n",
      "Maximum force on atom in `equilibrium`: 0.0000 eV/Å\n",
      "\n"
     ]
    }
   ],
   "source": [
    "from ase.vibrations import Infrared\n",
    "\n",
    "ir = Infrared(atoms, nfree=4)\n",
    "ir.run()\n",
    "ir.summary()"
   ]
  },
  {
   "cell_type": "code",
   "execution_count": 9,
   "id": "1587ef1c",
   "metadata": {},
   "outputs": [],
   "source": [
    "vib = ir.get_vibrations()\n",
    "modes = vib.get_modes()\n",
    "frequencies = vib.get_frequencies().real"
   ]
  },
  {
   "cell_type": "code",
   "execution_count": 10,
   "id": "1f6cc623",
   "metadata": {},
   "outputs": [],
   "source": [
    "random_seed = 8888\n",
    "temperature = 300\n",
    "nsamples = 27\n",
    "tol = 0.04"
   ]
  },
  {
   "cell_type": "code",
   "execution_count": 11,
   "id": "0cb720bf",
   "metadata": {},
   "outputs": [],
   "source": [
    "creater = AtomsCreater(modes=modes, frequencies=frequencies, \n",
    "                       atoms=atoms, temperature=temperature,\n",
    "                       random_seed=random_seed)"
   ]
  },
  {
   "cell_type": "code",
   "execution_count": 12,
   "id": "3a609863",
   "metadata": {},
   "outputs": [
    {
     "name": "stdout",
     "output_type": "stream",
     "text": [
      "Start build\n",
      "Get 27 samples at 40258 step.\n"
     ]
    }
   ],
   "source": [
    "images = build_train_atoms(creater, nsamples=nsamples, tol=tol, refatoms=atoms)"
   ]
  },
  {
   "cell_type": "code",
   "execution_count": 13,
   "id": "beec346a",
   "metadata": {},
   "outputs": [
    {
     "data": {
      "application/vnd.jupyter.widget-view+json": {
       "model_id": "cf65a5adf003489288d5352cb9d9775f",
       "version_major": 2,
       "version_minor": 0
      },
      "text/plain": [
       "  0%|          | 0/27 [00:00<?, ?it/s]"
      ]
     },
     "metadata": {},
     "output_type": "display_data"
    }
   ],
   "source": [
    "prop = ['vext', 'gamma', 'energy', 'forces', 'dipole', 'ke']\n",
    "properties = build_properties(images, refqmmol = refqmmol, properties=prop)"
   ]
  },
  {
   "cell_type": "code",
   "execution_count": 14,
   "id": "d72d39ae",
   "metadata": {},
   "outputs": [
    {
     "name": "stdout",
     "output_type": "stream",
     "text": [
      "['rks', 'rks/qmmol', 'rks/train_atoms_27', 'rks/train_props_27']\n"
     ]
    }
   ],
   "source": [
    "from qmlearn.io import write_db\n",
    "write_db('h2o_300_0.040_27_b3lyp_qmldb.hdf5', refqmmol, images, properties)"
   ]
  },
  {
   "cell_type": "code",
   "execution_count": 15,
   "id": "714e50bf",
   "metadata": {},
   "outputs": [],
   "source": [
    "atoms.write('opt-b3lyp.xyz', format='xyz')"
   ]
  }
 ],
 "metadata": {
  "kernelspec": {
   "display_name": "Python 3 (ipykernel)",
   "language": "python",
   "name": "python3"
  },
  "language_info": {
   "codemirror_mode": {
    "name": "ipython",
    "version": 3
   },
   "file_extension": ".py",
   "mimetype": "text/x-python",
   "name": "python",
   "nbconvert_exporter": "python",
   "pygments_lexer": "ipython3",
   "version": "3.10.6"
  },
  "varInspector": {
   "cols": {
    "lenName": 16,
    "lenType": 16,
    "lenVar": 40
   },
   "kernels_config": {
    "python": {
     "delete_cmd_postfix": "",
     "delete_cmd_prefix": "del ",
     "library": "var_list.py",
     "varRefreshCmd": "print(var_dic_list())"
    },
    "r": {
     "delete_cmd_postfix": ") ",
     "delete_cmd_prefix": "rm(",
     "library": "var_list.r",
     "varRefreshCmd": "cat(var_dic_list()) "
    }
   },
   "types_to_exclude": [
    "module",
    "function",
    "builtin_function_or_method",
    "instance",
    "_Feature"
   ],
   "window_display": false
  }
 },
 "nbformat": 4,
 "nbformat_minor": 5
}
