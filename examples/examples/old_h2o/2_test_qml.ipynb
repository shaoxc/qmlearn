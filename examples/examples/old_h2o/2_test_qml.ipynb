{
 "cells": [
  {
   "cell_type": "markdown",
   "id": "7f088951",
   "metadata": {},
   "source": [
    "!pip install git+https://gitlab.com/pavanello-research-group/qmlearn.git\n",
    "\n",
    "!pip install ase\n",
    "\n",
    "!wget https://gitlab.com/pavanello-research-group/qmlearn/-/raw/main/examples/examples/h2o/h2o_md_300_QML_set.hdf5"
   ]
  },
  {
   "cell_type": "markdown",
   "id": "92013ae1",
   "metadata": {},
   "source": [
    "## Using a QMModel: Performing Geometry Optimization"
   ]
  },
  {
   "cell_type": "code",
   "execution_count": 1,
   "id": "9a089309",
   "metadata": {},
   "outputs": [],
   "source": [
    "from ase.build import molecule\n",
    "from ase.optimize import LBFGS"
   ]
  },
  {
   "cell_type": "code",
   "execution_count": 2,
   "id": "e4f39685",
   "metadata": {},
   "outputs": [],
   "source": [
    "from qmlearn.api.api4ase import QMLCalculator\n",
    "from qmlearn.drivers.mol import QMMol\n",
    "from qmlearn.io.model import db2qmmodel"
   ]
  },
  {
   "cell_type": "markdown",
   "id": "a40420d4",
   "metadata": {},
   "source": [
    "##### Get Energies using Delta learning by altering the initial geometry \n",
    "\n",
    "1) Open a database that already defined the Linear Regression model using `db2qmmodel`"
   ]
  },
  {
   "cell_type": "code",
   "execution_count": 3,
   "id": "9ff0d52a",
   "metadata": {},
   "outputs": [
    {
     "name": "stdout",
     "output_type": "stream",
     "text": [
      "Guess DB names : {'qmmol': 'rks/qmmol', 'atoms': 'rks/train_atoms_36', 'properties': 'rks/train_props_36'}\n",
      "Guess mmodels: {'gamma': KernelRidge(alpha=0.1), 'd_gamma': LinearRegression(), 'd_energy': LinearRegression(), 'd_forces': LinearRegression()}\n"
     ]
    }
   ],
   "source": [
    "qmmodel = db2qmmodel('h2o_vib_QML_set.hdf5')"
   ]
  },
  {
   "cell_type": "markdown",
   "id": "e38af7c2",
   "metadata": {},
   "source": [
    "2) Define second learning features `energy` and `forces` \n",
    "\n",
    "3) Define the Calculator, based on `second_learn` models. "
   ]
  },
  {
   "cell_type": "code",
   "execution_count": 4,
   "id": "68f02731",
   "metadata": {},
   "outputs": [],
   "source": [
    "second_learn = {\n",
    "        'energy' : 'd_energy',\n",
    "        'forces' : 'd_forces',\n",
    "        }\n",
    "calc = QMLCalculator(qmmodel = qmmodel, second_learn = second_learn, method = 'gamma')"
   ]
  },
  {
   "cell_type": "markdown",
   "id": "68fc3ec6",
   "metadata": {},
   "source": [
    "4) Alter the atom_test positions by 0.2 and perform an optimization using `LBFGS` method."
   ]
  },
  {
   "cell_type": "code",
   "execution_count": 5,
   "id": "186ffb2b",
   "metadata": {},
   "outputs": [],
   "source": [
    "atoms_test=molecule('H2O')\n",
    "atoms_test.positions[0,0] += 0.2"
   ]
  },
  {
   "cell_type": "code",
   "execution_count": 6,
   "id": "9c7c5182",
   "metadata": {},
   "outputs": [],
   "source": [
    "atoms = atoms_test.copy()\n",
    "atoms.calc = calc"
   ]
  },
  {
   "cell_type": "code",
   "execution_count": 7,
   "id": "eaf4ca65",
   "metadata": {},
   "outputs": [
    {
     "name": "stdout",
     "output_type": "stream",
     "text": [
      "       Step     Time          Energy         fmax\n",
      "LBFGS:    0 14:35:16    -2070.590297        1.2629\n",
      "LBFGS:    1 14:35:16    -2070.613641        0.5462\n",
      "LBFGS:    2 14:35:16    -2070.613731        0.5392\n",
      "LBFGS:    3 14:35:16    -2070.618353        0.0477\n",
      "LBFGS:    4 14:35:17    -2070.618367        0.0338\n",
      "LBFGS:    5 14:35:17    -2070.618416        0.0159\n",
      "LBFGS:    6 14:35:17    -2070.618417        0.0050\n"
     ]
    },
    {
     "data": {
      "text/plain": [
       "array([[ 1.99131068e-01, -1.85111165e-05,  9.48952203e-02],\n",
       "       [ 4.35154210e-04,  7.65802993e-01, -4.64833266e-01],\n",
       "       [ 4.33783194e-04, -7.65784499e-01, -4.64893925e-01]])"
      ]
     },
     "execution_count": 7,
     "metadata": {},
     "output_type": "execute_result"
    }
   ],
   "source": [
    "LBFGS(atoms, trajectory = 'opt.traj').run(fmax=0.01)\n",
    "atoms.positions"
   ]
  },
  {
   "cell_type": "markdown",
   "id": "a095b331",
   "metadata": {},
   "source": [
    "##### Get Energies using PySCF engine\n",
    "\n",
    "1) Define the basis set, level of theory, exchange correlation functional and the total charge of your system"
   ]
  },
  {
   "cell_type": "code",
   "execution_count": 8,
   "id": "eafcff18",
   "metadata": {},
   "outputs": [],
   "source": [
    "basis = 'cc-pvTZ'\n",
    "xc = 'lda,vwn_rpa'\n",
    "method = 'rks'\n",
    "charge = 0"
   ]
  },
  {
   "cell_type": "markdown",
   "id": "e40d3d6f",
   "metadata": {},
   "source": [
    "2) Create atoms `atoms` copy, and the `refqmmol` object to initialize the engine.\n",
    "\n",
    "3) Initialize the calculator using `QMLCalculator` class."
   ]
  },
  {
   "cell_type": "code",
   "execution_count": 9,
   "id": "4d21ecce",
   "metadata": {},
   "outputs": [],
   "source": [
    "atoms = atoms_test.copy()\n",
    "refqmmol = QMMol(atoms = atoms, method = method, basis=basis, xc = xc, charge=charge)\n",
    "atoms.calc = QMLCalculator(qmmodel = refqmmol, method = 'engine')"
   ]
  },
  {
   "cell_type": "markdown",
   "id": "58a78634",
   "metadata": {},
   "source": [
    "4) Run the geometry optimization"
   ]
  },
  {
   "cell_type": "code",
   "execution_count": 10,
   "id": "e067f72c",
   "metadata": {},
   "outputs": [
    {
     "name": "stdout",
     "output_type": "stream",
     "text": [
      "       Step     Time          Energy         fmax\n",
      "LBFGS:    0 14:35:22    -2070.596525        1.3259\n",
      "LBFGS:    1 14:35:25    -2070.616301        0.2563\n",
      "LBFGS:    2 14:35:28    -2070.617393        0.1126\n",
      "LBFGS:    3 14:35:30    -2070.618015        0.1030\n",
      "LBFGS:    4 14:35:32    -2070.618396        0.0495\n",
      "LBFGS:    5 14:35:35    -2070.618425        0.0106\n",
      "LBFGS:    6 14:35:38    -2070.618427        0.0005\n"
     ]
    },
    {
     "data": {
      "text/plain": [
       "array([[ 1.92577545e-01, -2.07643072e-16,  9.72371798e-02],\n",
       "       [ 3.71122733e-03,  7.65804799e-01, -4.66034590e-01],\n",
       "       [ 3.71122733e-03, -7.65804799e-01, -4.66034590e-01]])"
      ]
     },
     "execution_count": 10,
     "metadata": {},
     "output_type": "execute_result"
    }
   ],
   "source": [
    "LBFGS(atoms, trajectory = 'opt.traj').run(fmax=0.01)\n",
    "atoms.positions"
   ]
  },
  {
   "cell_type": "markdown",
   "id": "f35a9da6",
   "metadata": {},
   "source": [
    "##### Get Energies using Delta learning  without altering the geometry"
   ]
  },
  {
   "cell_type": "markdown",
   "id": "9aa93671",
   "metadata": {},
   "source": [
    "1) Open a model in a database and keep it in `qmmodel`.\n",
    "\n",
    "2) Create atoms `atoms` copy.\n",
    "\n",
    "3) Initialize the calculator using `QMLCalculator` class, based on the define `second_learn` models."
   ]
  },
  {
   "cell_type": "code",
   "execution_count": 11,
   "id": "8b67344c",
   "metadata": {},
   "outputs": [
    {
     "name": "stdout",
     "output_type": "stream",
     "text": [
      "Guess DB names : {'qmmol': 'rks/qmmol', 'atoms': 'rks/train_atoms_30', 'properties': 'rks/train_props_30'}\n",
      "Guess mmodels: {'gamma': KernelRidge(alpha=0.1), 'd_gamma': LinearRegression(), 'd_energy': LinearRegression(), 'd_forces': LinearRegression()}\n"
     ]
    }
   ],
   "source": [
    "qmmodel = db2qmmodel('./h2o_md_300_QML_set.hdf5')\n",
    "atoms = atoms_test.copy()\n",
    "atoms.calc = QMLCalculator(qmmodel = qmmodel, second_learn = second_learn, method = 'gamma')"
   ]
  },
  {
   "cell_type": "markdown",
   "id": "ba6bbae1",
   "metadata": {},
   "source": [
    "4) Run the geometry optimization"
   ]
  },
  {
   "cell_type": "code",
   "execution_count": 12,
   "id": "89447d09",
   "metadata": {},
   "outputs": [
    {
     "name": "stdout",
     "output_type": "stream",
     "text": [
      "       Step     Time          Energy         fmax\n",
      "LBFGS:    0 14:35:42    -2070.596523        1.3260\n",
      "LBFGS:    1 14:35:42    -2070.616324        0.2564\n",
      "LBFGS:    2 14:35:42    -2070.617414        0.1126\n",
      "LBFGS:    3 14:35:42    -2070.618033        0.1029\n",
      "LBFGS:    4 14:35:43    -2070.618410        0.0495\n",
      "LBFGS:    5 14:35:43    -2070.618441        0.0106\n",
      "LBFGS:    6 14:35:43    -2070.618442        0.0015\n"
     ]
    },
    {
     "data": {
      "text/plain": [
       "array([[ 1.92610233e-01,  1.21723284e-05,  9.72290782e-02],\n",
       "       [ 3.69637070e-03,  7.65793860e-01, -4.66026104e-01],\n",
       "       [ 3.69340087e-03, -7.65806039e-01, -4.66034959e-01]])"
      ]
     },
     "execution_count": 12,
     "metadata": {},
     "output_type": "execute_result"
    }
   ],
   "source": [
    "LBFGS(atoms, trajectory = 'opt.traj').run(fmax=0.01)\n",
    "atoms.positions"
   ]
  }
 ],
 "metadata": {
  "kernelspec": {
   "display_name": "Python 3 (ipykernel)",
   "language": "python",
   "name": "python3"
  },
  "language_info": {
   "codemirror_mode": {
    "name": "ipython",
    "version": 3
   },
   "file_extension": ".py",
   "mimetype": "text/x-python",
   "name": "python",
   "nbconvert_exporter": "python",
   "pygments_lexer": "ipython3",
   "version": "3.8.10"
  },
  "varInspector": {
   "cols": {
    "lenName": 16,
    "lenType": 16,
    "lenVar": 40
   },
   "kernels_config": {
    "python": {
     "delete_cmd_postfix": "",
     "delete_cmd_prefix": "del ",
     "library": "var_list.py",
     "varRefreshCmd": "print(var_dic_list())"
    },
    "r": {
     "delete_cmd_postfix": ") ",
     "delete_cmd_prefix": "rm(",
     "library": "var_list.r",
     "varRefreshCmd": "cat(var_dic_list()) "
    }
   },
   "types_to_exclude": [
    "module",
    "function",
    "builtin_function_or_method",
    "instance",
    "_Feature"
   ],
   "window_display": false
  }
 },
 "nbformat": 4,
 "nbformat_minor": 5
}
