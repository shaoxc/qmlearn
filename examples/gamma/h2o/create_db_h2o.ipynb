{
 "cells": [
  {
   "cell_type": "code",
   "execution_count": 1,
   "id": "f183838d",
   "metadata": {},
   "outputs": [],
   "source": [
    "import numpy as np\n",
    "from numpy import linalg as LA\n",
    "import os\n",
    "import copy\n",
    "import ase\n",
    "import ase.io\n",
    "from ase.units import Ha, Bohr, mol,kcal\n",
    "from ase.io import write\n",
    "from ase.io.trajectory import Trajectory"
   ]
  },
  {
   "cell_type": "code",
   "execution_count": 2,
   "id": "bdd1ea2b",
   "metadata": {},
   "outputs": [],
   "source": [
    "basis='cc-pvtz'\n",
    "xc='lda,lda'; method = 'rks'\n",
    "# xc=None; method = 'mp2'\n",
    "\n",
    "# mdtraj = 'h2o/water_400_train.traj'\n",
    "mdtraj = 'h2o/water_300_train.traj'\n",
    "mdtraj2 = 'h2o/water_300.traj'\n",
    "\n",
    "nsamples = 30\n",
    "tol = 0.015\n",
    "direction=(0,0,1)\n",
    "\n",
    "skip = 0\n",
    "nseq = 100\n",
    "nstep = 100\n",
    "\n",
    "input_options={\n",
    "    'basis': basis,\n",
    "    'xc': xc,\n",
    "    'method': method,\n",
    "    'tol': tol,\n",
    "    'direction': direction,\n",
    "    'skip': skip,\n",
    "    'nseq': nseq,\n",
    "    'nstep': nstep,\n",
    "    'train_mdtraj': mdtraj,\n",
    "    'test_mdtraj': mdtraj2,\n",
    "}"
   ]
  },
  {
   "cell_type": "code",
   "execution_count": 3,
   "metadata": {},
   "outputs": [],
   "source": [
    "from qmlearn.model import QMModel\n",
    "from qmlearn.drivers.mol import QMMol\n",
    "from qmlearn.preprocessing import get_train_atoms\n",
    "from qmlearn.io.hdf5 import DBHDF5"
   ]
  },
  {
   "cell_type": "code",
   "execution_count": 4,
   "id": "58cbbd11",
   "metadata": {},
   "outputs": [
    {
     "name": "stdout",
     "output_type": "stream",
     "text": [
      "WARN : Only get 25 samples at 7170 step. Maybe you can reduce the 'tol'.\n"
     ]
    }
   ],
   "source": [
    "train_atoms=get_train_atoms(mdtraj=mdtraj, nsamples=nsamples, tol=tol, direction=direction)\n",
    "nsamples = len(train_atoms)"
   ]
  },
  {
   "cell_type": "code",
   "execution_count": 5,
   "metadata": {},
   "outputs": [],
   "source": [
    "import os\n",
    "outtraj='_QML_selected'.join(os.path.splitext(mdtraj))\n",
    "train_traj = Trajectory(outtraj, 'w')\n",
    "for atoms in train_atoms:\n",
    "    train_traj.write(atoms)\n",
    "train_traj.close()"
   ]
  },
  {
   "cell_type": "code",
   "execution_count": 6,
   "metadata": {},
   "outputs": [],
   "source": [
    "refqmmol = QMMol(atoms = train_atoms[0],  method = method, basis=basis, xc = xc)"
   ]
  },
  {
   "cell_type": "code",
   "execution_count": 7,
   "metadata": {},
   "outputs": [],
   "source": [
    "prop = ['vext', 'gamma', 'energy', 'ke', 'dipole', 'quadrupole', 'ncharge', 'idm']\n",
    "properties= { k: [] for k in prop}\n",
    "test_data = { k: [] for k in prop}"
   ]
  },
  {
   "cell_type": "code",
   "execution_count": 8,
   "metadata": {},
   "outputs": [],
   "source": [
    "def gamma2props(qmmol, gamma, p, prop=[]):\n",
    "    if 'vext' in prop:\n",
    "        p['vext'].append(qmmol.engine.vext)\n",
    "    if 'gamma' in prop:\n",
    "        p['gamma'].append(gamma)\n",
    "    if 'energy' in prop:\n",
    "        p['energy'].append(qmmol.calc_etotal(gamma))\n",
    "    if 'ke' in prop:\n",
    "        p['ke'].append(qmmol.calc_ke(gamma))\n",
    "    if 'dipole' in prop:\n",
    "        p['dipole'].append(qmmol.calc_dipole(gamma))\n",
    "    if 'quadrupole' in prop:\n",
    "        p['quadrupole'].append(qmmol.calc_quadrupole(gamma))\n",
    "    if 'ncharge' in prop:\n",
    "        p['ncharge'].append(qmmol.calc_ncharge(gamma))\n",
    "    if 'idm' in prop:\n",
    "        p['idm'].append(qmmol.calc_idempotency(gamma))\n",
    "    return p"
   ]
  },
  {
   "cell_type": "code",
   "execution_count": 9,
   "metadata": {
    "code_folding": []
   },
   "outputs": [],
   "source": [
    "%%capture\n",
    "for atoms in train_atoms:\n",
    "    qmmol = refqmmol.duplicate(atoms)\n",
    "    qmmol.run()\n",
    "    gamma=qmmol.engine.gamma\n",
    "    gamma2props(qmmol, gamma, properties, prop=prop[:-1])\n",
    "    properties['energy'][-1] = qmmol.engine.etotal"
   ]
  },
  {
   "cell_type": "code",
   "execution_count": 10,
   "metadata": {},
   "outputs": [],
   "source": [
    "%%capture\n",
    "test_atoms = []\n",
    "traj = Trajectory(mdtraj2)\n",
    "for i in range(0,nstep):\n",
    "    j = skip+i*nseq\n",
    "    atoms=traj[j]\n",
    "    test_atoms.append(atoms)\n",
    "    qmmol = refqmmol.duplicate(atoms)\n",
    "    qmmol.run()\n",
    "    p = test_data\n",
    "    gamma = qmmol.engine.gamma\n",
    "    gamma2props(qmmol, gamma, p, prop=prop[:-1])\n",
    "    p['energy'][-1] = qmmol.engine.etotal\n",
    "traj.close()"
   ]
  },
  {
   "cell_type": "code",
   "execution_count": 11,
   "metadata": {},
   "outputs": [],
   "source": [
    "dbfile = os.path.splitext(mdtraj2)[0]+'_QML_set.hdf5'\n",
    "db = DBHDF5(dbfile, qmmol=refqmmol)"
   ]
  },
  {
   "cell_type": "code",
   "execution_count": 12,
   "metadata": {},
   "outputs": [
    {
     "data": {
      "text/plain": [
       "['mp2',\n",
       " 'mp2/qmmol',\n",
       " 'mp2/test_atoms_100',\n",
       " 'mp2/test_props_100',\n",
       " 'mp2/train_atoms_25',\n",
       " 'mp2/train_props_25',\n",
       " 'rks',\n",
       " 'rks/qmmol',\n",
       " 'rks/test_atoms_100',\n",
       " 'rks/test_props_100',\n",
       " 'rks/train_atoms_25',\n",
       " 'rks/train_props_25']"
      ]
     },
     "execution_count": 12,
     "metadata": {},
     "output_type": "execute_result"
    }
   ],
   "source": [
    "properties['input_options']=input_options\n",
    "db.write_qmmol(refqmmol)\n",
    "db.write_images(train_atoms, prefix='train')\n",
    "db.write_properties(properties, prefix='train')\n",
    "db.write_images(test_atoms, prefix='test')\n",
    "db.write_properties(test_data, prefix='test')\n",
    "db.names"
   ]
  },
  {
   "cell_type": "code",
   "execution_count": 13,
   "metadata": {},
   "outputs": [],
   "source": [
    "db.close()"
   ]
  },
  {
   "cell_type": "code",
   "execution_count": 15,
   "metadata": {},
   "outputs": [
    {
     "data": {
      "text/plain": [
       "array([-76.25270517, -76.26103005, -76.25225214])"
      ]
     },
     "execution_count": 15,
     "metadata": {},
     "output_type": "execute_result"
    }
   ],
   "source": [
    "db = DBHDF5(dbfile, qmmol=refqmmol)\n",
    "data = db.read_properties(db.get_names('*/test_props_*')[0])\n",
    "db.close()\n",
    "data['energy'][:3]"
   ]
  }
 ],
 "metadata": {
  "kernelspec": {
   "display_name": "Python 3",
   "language": "python",
   "name": "python3"
  },
  "language_info": {
   "codemirror_mode": {
    "name": "ipython",
    "version": 3
   },
   "file_extension": ".py",
   "mimetype": "text/x-python",
   "name": "python",
   "nbconvert_exporter": "python",
   "pygments_lexer": "ipython3",
   "version": "3.8.10"
  },
  "varInspector": {
   "cols": {
    "lenName": 16,
    "lenType": 16,
    "lenVar": 40
   },
   "kernels_config": {
    "python": {
     "delete_cmd_postfix": "",
     "delete_cmd_prefix": "del ",
     "library": "var_list.py",
     "varRefreshCmd": "print(var_dic_list())"
    },
    "r": {
     "delete_cmd_postfix": ") ",
     "delete_cmd_prefix": "rm(",
     "library": "var_list.r",
     "varRefreshCmd": "cat(var_dic_list()) "
    }
   },
   "types_to_exclude": [
    "module",
    "function",
    "builtin_function_or_method",
    "instance",
    "_Feature"
   ],
   "window_display": false
  }
 },
 "nbformat": 4,
 "nbformat_minor": 5
}
